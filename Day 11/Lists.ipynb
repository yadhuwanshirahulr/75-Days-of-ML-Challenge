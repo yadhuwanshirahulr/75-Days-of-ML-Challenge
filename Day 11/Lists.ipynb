{
 "cells": [
  {
   "cell_type": "markdown",
   "id": "5162dc2b",
   "metadata": {},
   "source": [
    "# Day 11"
   ]
  },
  {
   "cell_type": "markdown",
   "id": "36be70e9",
   "metadata": {},
   "source": [
    "## String Inbuilt Function"
   ]
  },
  {
   "cell_type": "code",
   "execution_count": 33,
   "id": "5406e729",
   "metadata": {},
   "outputs": [],
   "source": [
    "Name = \"Rahul Kumar\""
   ]
  },
  {
   "cell_type": "code",
   "execution_count": 34,
   "id": "683081e6",
   "metadata": {},
   "outputs": [
    {
     "name": "stdout",
     "output_type": "stream",
     "text": [
      "False\n"
     ]
    }
   ],
   "source": [
    "# checks it contains as well as number\n",
    "print(Name.isalnum())"
   ]
  },
  {
   "cell_type": "code",
   "execution_count": 35,
   "id": "73955672",
   "metadata": {},
   "outputs": [
    {
     "name": "stdout",
     "output_type": "stream",
     "text": [
      "False\n"
     ]
    }
   ],
   "source": [
    "#check if all character in string are alphabecti\n",
    "print(Name.isalpha())"
   ]
  },
  {
   "cell_type": "code",
   "execution_count": 36,
   "id": "bba1c6ef",
   "metadata": {},
   "outputs": [
    {
     "name": "stdout",
     "output_type": "stream",
     "text": [
      "False\n"
     ]
    }
   ],
   "source": [
    "#check if all character in this string are digits\n",
    "print(Name.isdigit())"
   ]
  },
  {
   "cell_type": "code",
   "execution_count": 37,
   "id": "49407ba9",
   "metadata": {},
   "outputs": [
    {
     "name": "stdout",
     "output_type": "stream",
     "text": [
      "True\n"
     ]
    }
   ],
   "source": [
    "#check this sting is in the title format\n",
    "print(Name.istitle())"
   ]
  },
  {
   "cell_type": "code",
   "execution_count": 38,
   "id": "bb98b587",
   "metadata": {},
   "outputs": [
    {
     "name": "stdout",
     "output_type": "stream",
     "text": [
      "False\n"
     ]
    }
   ],
   "source": [
    "#checks is all character in the string are in lowercase\n",
    "print(Name.islower())"
   ]
  },
  {
   "cell_type": "code",
   "execution_count": 39,
   "id": "c04cbac5",
   "metadata": {},
   "outputs": [
    {
     "name": "stdout",
     "output_type": "stream",
     "text": [
      "False\n"
     ]
    }
   ],
   "source": [
    "#checks is all character in the string are in uppercase\n",
    "print(Name.isupper())"
   ]
  },
  {
   "cell_type": "code",
   "execution_count": 40,
   "id": "b74a149d",
   "metadata": {},
   "outputs": [
    {
     "name": "stdout",
     "output_type": "stream",
     "text": [
      "False\n"
     ]
    }
   ],
   "source": [
    "#check if string all char are space\n",
    "print(Name.isspace())"
   ]
  },
  {
   "cell_type": "code",
   "execution_count": 41,
   "id": "7273f0a9",
   "metadata": {},
   "outputs": [
    {
     "name": "stdout",
     "output_type": "stream",
     "text": [
      "True\n"
     ]
    }
   ],
   "source": [
    "print(Name.startswith('R'))"
   ]
  },
  {
   "cell_type": "code",
   "execution_count": 42,
   "id": "295ce07d",
   "metadata": {},
   "outputs": [
    {
     "name": "stdout",
     "output_type": "stream",
     "text": [
      "True\n"
     ]
    }
   ],
   "source": [
    "#it is case sensetive\n",
    "print(Name.endswith('r'))"
   ]
  },
  {
   "cell_type": "markdown",
   "id": "9be737e7",
   "metadata": {},
   "source": [
    "## Boolean And Logical Operator"
   ]
  },
  {
   "cell_type": "markdown",
   "id": "f8e99895",
   "metadata": {},
   "source": [
    "### or operator"
   ]
  },
  {
   "cell_type": "code",
   "execution_count": 43,
   "id": "2c05501f",
   "metadata": {},
   "outputs": [
    {
     "data": {
      "text/plain": [
       "True"
      ]
     },
     "execution_count": 43,
     "metadata": {},
     "output_type": "execute_result"
    }
   ],
   "source": [
    "True or True"
   ]
  },
  {
   "cell_type": "code",
   "execution_count": 44,
   "id": "e05849d7",
   "metadata": {},
   "outputs": [
    {
     "data": {
      "text/plain": [
       "True"
      ]
     },
     "execution_count": 44,
     "metadata": {},
     "output_type": "execute_result"
    }
   ],
   "source": [
    "True or False"
   ]
  },
  {
   "cell_type": "markdown",
   "id": "d33ce5bb",
   "metadata": {},
   "source": [
    "### and Operator"
   ]
  },
  {
   "cell_type": "code",
   "execution_count": 45,
   "id": "145d4e89",
   "metadata": {},
   "outputs": [
    {
     "data": {
      "text/plain": [
       "False"
      ]
     },
     "execution_count": 45,
     "metadata": {},
     "output_type": "execute_result"
    }
   ],
   "source": [
    "True and False"
   ]
  },
  {
   "cell_type": "code",
   "execution_count": 46,
   "id": "c90f543b",
   "metadata": {},
   "outputs": [
    {
     "data": {
      "text/plain": [
       "True"
      ]
     },
     "execution_count": 46,
     "metadata": {},
     "output_type": "execute_result"
    }
   ],
   "source": [
    "True and True"
   ]
  },
  {
   "cell_type": "code",
   "execution_count": 47,
   "id": "4f80df3c",
   "metadata": {},
   "outputs": [],
   "source": [
    "Name = \"Rahul Kumar\"\n",
    "Word = \"Hello123\""
   ]
  },
  {
   "cell_type": "code",
   "execution_count": 52,
   "id": "8ef22aa9",
   "metadata": {},
   "outputs": [
    {
     "data": {
      "text/plain": [
       "True"
      ]
     },
     "execution_count": 52,
     "metadata": {},
     "output_type": "execute_result"
    }
   ],
   "source": [
    "Name.istitle() or Word.isalpha()"
   ]
  },
  {
   "cell_type": "code",
   "execution_count": 53,
   "id": "da662a26",
   "metadata": {},
   "outputs": [
    {
     "data": {
      "text/plain": [
       "False"
      ]
     },
     "execution_count": 53,
     "metadata": {},
     "output_type": "execute_result"
    }
   ],
   "source": [
    "Name.istitle() and Word.isalpha()"
   ]
  },
  {
   "cell_type": "markdown",
   "id": "17df16bd",
   "metadata": {},
   "source": [
    "## Lists"
   ]
  },
  {
   "cell_type": "code",
   "execution_count": 54,
   "id": "a436e579",
   "metadata": {},
   "outputs": [],
   "source": [
    " arr = []"
   ]
  },
  {
   "cell_type": "code",
   "execution_count": 55,
   "id": "d0be657e",
   "metadata": {},
   "outputs": [
    {
     "data": {
      "text/plain": [
       "list"
      ]
     },
     "execution_count": 55,
     "metadata": {},
     "output_type": "execute_result"
    }
   ],
   "source": [
    "type(arr)"
   ]
  },
  {
   "cell_type": "code",
   "execution_count": 56,
   "id": "80a63013",
   "metadata": {},
   "outputs": [],
   "source": [
    "arr = ['Rahul','Kumar',1,2,3]"
   ]
  },
  {
   "cell_type": "code",
   "execution_count": 57,
   "id": "c2d2ea5b",
   "metadata": {},
   "outputs": [
    {
     "data": {
      "text/plain": [
       "['Rahul', 'Kumar', 1, 2, 3]"
      ]
     },
     "execution_count": 57,
     "metadata": {},
     "output_type": "execute_result"
    }
   ],
   "source": [
    "arr"
   ]
  },
  {
   "cell_type": "code",
   "execution_count": 59,
   "id": "972eb87f",
   "metadata": {},
   "outputs": [
    {
     "data": {
      "text/plain": [
       "list"
      ]
     },
     "execution_count": 59,
     "metadata": {},
     "output_type": "execute_result"
    }
   ],
   "source": [
    "type(arr)"
   ]
  },
  {
   "cell_type": "code",
   "execution_count": 60,
   "id": "0940a0b3",
   "metadata": {},
   "outputs": [],
   "source": [
    "arr.append(\"cat\")"
   ]
  },
  {
   "cell_type": "code",
   "execution_count": 61,
   "id": "56acf4bc",
   "metadata": {},
   "outputs": [
    {
     "data": {
      "text/plain": [
       "['Rahul', 'Kumar', 1, 2, 3, 'cat']"
      ]
     },
     "execution_count": 61,
     "metadata": {},
     "output_type": "execute_result"
    }
   ],
   "source": [
    "arr"
   ]
  },
  {
   "cell_type": "code",
   "execution_count": 62,
   "id": "ed4ce67b",
   "metadata": {},
   "outputs": [
    {
     "data": {
      "text/plain": [
       "['Kumar', 1]"
      ]
     },
     "execution_count": 62,
     "metadata": {},
     "output_type": "execute_result"
    }
   ],
   "source": [
    " arr[1:3]"
   ]
  },
  {
   "cell_type": "markdown",
   "id": "1476fe2a",
   "metadata": {},
   "source": [
    "### insert"
   ]
  },
  {
   "cell_type": "markdown",
   "id": "7f35c1a8",
   "metadata": {},
   "source": [
    "Used to insert any  element at a particular index"
   ]
  },
  {
   "cell_type": "code",
   "execution_count": 63,
   "id": "b531d0de",
   "metadata": {},
   "outputs": [],
   "source": [
    "arr.insert(2,\"dog\")"
   ]
  },
  {
   "cell_type": "code",
   "execution_count": 64,
   "id": "60e8f4b8",
   "metadata": {},
   "outputs": [
    {
     "data": {
      "text/plain": [
       "['Rahul', 'Kumar', 'dog', 1, 2, 3, 'cat']"
      ]
     },
     "execution_count": 64,
     "metadata": {},
     "output_type": "execute_result"
    }
   ],
   "source": [
    "arr"
   ]
  },
  {
   "cell_type": "markdown",
   "id": "7592d2fd",
   "metadata": {},
   "source": [
    "### extend"
   ]
  },
  {
   "cell_type": "markdown",
   "id": "ccaa82f0",
   "metadata": {},
   "source": [
    "This method is used to insert multiple value in a list at once"
   ]
  },
  {
   "cell_type": "code",
   "execution_count": 65,
   "id": "ca6d5b19",
   "metadata": {},
   "outputs": [],
   "source": [
    "arr.extend([\"cat\",\"rat\",\"121\",121])"
   ]
  },
  {
   "cell_type": "code",
   "execution_count": 66,
   "id": "929b52ae",
   "metadata": {},
   "outputs": [
    {
     "data": {
      "text/plain": [
       "['Rahul', 'Kumar', 'dog', 1, 2, 3, 'cat', 'cat', 'rat', '121', 121]"
      ]
     },
     "execution_count": 66,
     "metadata": {},
     "output_type": "execute_result"
    }
   ],
   "source": [
    "arr"
   ]
  },
  {
   "cell_type": "markdown",
   "id": "d0f99687",
   "metadata": {},
   "source": [
    "### Various operation of List"
   ]
  },
  {
   "cell_type": "code",
   "execution_count": 69,
   "id": "bec263ec",
   "metadata": {},
   "outputs": [],
   "source": [
    "arr1 = [1,2,3,4,5]"
   ]
  },
  {
   "cell_type": "code",
   "execution_count": 70,
   "id": "6b9d2fc3",
   "metadata": {},
   "outputs": [
    {
     "data": {
      "text/plain": [
       "15"
      ]
     },
     "execution_count": 70,
     "metadata": {},
     "output_type": "execute_result"
    }
   ],
   "source": [
    "sum(arr1)"
   ]
  },
  {
   "cell_type": "code",
   "execution_count": 71,
   "id": "2eb376a9",
   "metadata": {},
   "outputs": [
    {
     "data": {
      "text/plain": [
       "5"
      ]
     },
     "execution_count": 71,
     "metadata": {},
     "output_type": "execute_result"
    }
   ],
   "source": [
    "arr1.pop()"
   ]
  },
  {
   "cell_type": "code",
   "execution_count": 73,
   "id": "a4c29b45",
   "metadata": {},
   "outputs": [
    {
     "data": {
      "text/plain": [
       "1"
      ]
     },
     "execution_count": 73,
     "metadata": {},
     "output_type": "execute_result"
    }
   ],
   "source": [
    "arr1.pop(0)"
   ]
  },
  {
   "cell_type": "code",
   "execution_count": 74,
   "id": "366f7a47",
   "metadata": {},
   "outputs": [
    {
     "data": {
      "text/plain": [
       "0"
      ]
     },
     "execution_count": 74,
     "metadata": {},
     "output_type": "execute_result"
    }
   ],
   "source": [
    "arr.count(\"Rahul\")"
   ]
  },
  {
   "cell_type": "code",
   "execution_count": 75,
   "id": "7a2b404d",
   "metadata": {},
   "outputs": [],
   "source": [
    "arr.append(\"Rahul\")"
   ]
  },
  {
   "cell_type": "code",
   "execution_count": 76,
   "id": "3ffd2460",
   "metadata": {},
   "outputs": [
    {
     "data": {
      "text/plain": [
       "1"
      ]
     },
     "execution_count": 76,
     "metadata": {},
     "output_type": "execute_result"
    }
   ],
   "source": [
    "arr.count(\"Rahul\")"
   ]
  },
  {
   "cell_type": "code",
   "execution_count": 77,
   "id": "afa9f78c",
   "metadata": {},
   "outputs": [
    {
     "data": {
      "text/plain": [
       "1"
      ]
     },
     "execution_count": 77,
     "metadata": {},
     "output_type": "execute_result"
    }
   ],
   "source": [
    "arr.count('Rahul')"
   ]
  },
  {
   "cell_type": "code",
   "execution_count": 78,
   "id": "1fbbfe01",
   "metadata": {},
   "outputs": [
    {
     "data": {
      "text/plain": [
       "11"
      ]
     },
     "execution_count": 78,
     "metadata": {},
     "output_type": "execute_result"
    }
   ],
   "source": [
    "len(arr)\n"
   ]
  },
  {
   "cell_type": "code",
   "execution_count": 79,
   "id": "fe6c427d",
   "metadata": {},
   "outputs": [
    {
     "data": {
      "text/plain": [
       "10"
      ]
     },
     "execution_count": 79,
     "metadata": {},
     "output_type": "execute_result"
    }
   ],
   "source": [
    " #finding the index of element\n",
    "arr.index(\"Rahul\")"
   ]
  },
  {
   "cell_type": "code",
   "execution_count": 80,
   "id": "96027cd2",
   "metadata": {},
   "outputs": [
    {
     "data": {
      "text/plain": [
       "2"
      ]
     },
     "execution_count": 80,
     "metadata": {},
     "output_type": "execute_result"
    }
   ],
   "source": [
    "min(arr1)"
   ]
  },
  {
   "cell_type": "code",
   "execution_count": 83,
   "id": "2e33250c",
   "metadata": {},
   "outputs": [
    {
     "data": {
      "text/plain": [
       "['Kumar',\n",
       " 'dog',\n",
       " 1,\n",
       " 2,\n",
       " 3,\n",
       " 'cat',\n",
       " 'cat',\n",
       " 'rat',\n",
       " '121',\n",
       " 121,\n",
       " 'Rahul',\n",
       " 'Kumar',\n",
       " 'dog',\n",
       " 1,\n",
       " 2,\n",
       " 3,\n",
       " 'cat',\n",
       " 'cat',\n",
       " 'rat',\n",
       " '121',\n",
       " 121,\n",
       " 'Rahul']"
      ]
     },
     "execution_count": 83,
     "metadata": {},
     "output_type": "execute_result"
    }
   ],
   "source": [
    "arr*2\n",
    "#this code append list 2 times"
   ]
  },
  {
   "cell_type": "code",
   "execution_count": null,
   "id": "73c22568",
   "metadata": {},
   "outputs": [],
   "source": []
  }
 ],
 "metadata": {
  "kernelspec": {
   "display_name": "Python 3 (ipykernel)",
   "language": "python",
   "name": "python3"
  },
  "language_info": {
   "codemirror_mode": {
    "name": "ipython",
    "version": 3
   },
   "file_extension": ".py",
   "mimetype": "text/x-python",
   "name": "python",
   "nbconvert_exporter": "python",
   "pygments_lexer": "ipython3",
   "version": "3.11.2"
  }
 },
 "nbformat": 4,
 "nbformat_minor": 5
}
