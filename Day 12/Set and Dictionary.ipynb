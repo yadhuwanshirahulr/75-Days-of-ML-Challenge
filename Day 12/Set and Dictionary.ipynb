{
 "cells": [
  {
   "cell_type": "markdown",
   "id": "4de2a6d7",
   "metadata": {},
   "source": [
    "# Day 12"
   ]
  },
  {
   "cell_type": "markdown",
   "id": "33c0a4ec",
   "metadata": {},
   "source": [
    "# Set"
   ]
  },
  {
   "cell_type": "code",
   "execution_count": 1,
   "id": "e9120520",
   "metadata": {},
   "outputs": [
    {
     "name": "stdout",
     "output_type": "stream",
     "text": [
      "set()\n",
      "<class 'set'>\n"
     ]
    }
   ],
   "source": [
    "# Defining an empty set\n",
    "\n",
    "set_var = set()\n",
    "print(set_var)\n",
    "print(type(set_var))"
   ]
  },
  {
   "cell_type": "code",
   "execution_count": 2,
   "id": "4d22c88c",
   "metadata": {},
   "outputs": [],
   "source": [
    "set_var = {1,2,3,4,5}"
   ]
  },
  {
   "cell_type": "code",
   "execution_count": 3,
   "id": "7572f015",
   "metadata": {},
   "outputs": [
    {
     "data": {
      "text/plain": [
       "{1, 2, 3, 4, 5}"
      ]
     },
     "execution_count": 3,
     "metadata": {},
     "output_type": "execute_result"
    }
   ],
   "source": [
    "set_var"
   ]
  },
  {
   "cell_type": "code",
   "execution_count": 4,
   "id": "601db8f9",
   "metadata": {},
   "outputs": [
    {
     "data": {
      "text/plain": [
       "{2, 3, 4, 5, 11}"
      ]
     },
     "execution_count": 4,
     "metadata": {},
     "output_type": "execute_result"
    }
   ],
   "source": [
    "set_var = {5,5,4,4,3,3,2,2,11,11}\n",
    "set_var"
   ]
  },
  {
   "cell_type": "code",
   "execution_count": 5,
   "id": "946a089f",
   "metadata": {},
   "outputs": [
    {
     "data": {
      "text/plain": [
       "{'Hit Man', 'Iron Man', 'Thor'}"
      ]
     },
     "execution_count": 5,
     "metadata": {},
     "output_type": "execute_result"
    }
   ],
   "source": [
    "set_var = {'Iron Man','Hit Man', 'Thor'}\n",
    "set_var"
   ]
  },
  {
   "cell_type": "code",
   "execution_count": 6,
   "id": "7920b75c",
   "metadata": {},
   "outputs": [],
   "source": [
    "# Adding elements in set\n",
    "set_var.add('Hulk')"
   ]
  },
  {
   "cell_type": "code",
   "execution_count": 7,
   "id": "9aade7d3",
   "metadata": {},
   "outputs": [
    {
     "data": {
      "text/plain": [
       "{'Hit Man', 'Hulk', 'Iron Man', 'Thor'}"
      ]
     },
     "execution_count": 7,
     "metadata": {},
     "output_type": "execute_result"
    }
   ],
   "source": [
    "set_var"
   ]
  },
  {
   "cell_type": "markdown",
   "id": "a53f9b7b",
   "metadata": {},
   "source": [
    "# Dictionary"
   ]
  },
  {
   "cell_type": "code",
   "execution_count": 10,
   "id": "fe54aa19",
   "metadata": {},
   "outputs": [],
   "source": [
    "dic = {}\n"
   ]
  },
  {
   "cell_type": "code",
   "execution_count": 11,
   "id": "223d50e2",
   "metadata": {},
   "outputs": [
    {
     "data": {
      "text/plain": [
       "dict"
      ]
     },
     "execution_count": 11,
     "metadata": {},
     "output_type": "execute_result"
    }
   ],
   "source": [
    "type(dic)"
   ]
  },
  {
   "cell_type": "code",
   "execution_count": 14,
   "id": "7d60b6f5",
   "metadata": {},
   "outputs": [
    {
     "data": {
      "text/plain": [
       "dict"
      ]
     },
     "execution_count": 14,
     "metadata": {},
     "output_type": "execute_result"
    }
   ],
   "source": [
    "type(dict)"
   ]
  },
  {
   "cell_type": "code",
   "execution_count": 16,
   "id": "8cd93c74",
   "metadata": {},
   "outputs": [],
   "source": [
    "# creating a dictionary\n",
    "my_dic = {'car1':'Thar','car2':'BMW','car3':'Range Rover'}"
   ]
  },
  {
   "cell_type": "code",
   "execution_count": 17,
   "id": "aa65f0b1",
   "metadata": {},
   "outputs": [
    {
     "data": {
      "text/plain": [
       "{'car1': 'Thar', 'car2': 'BMW', 'car3': 'Range Rover'}"
      ]
     },
     "execution_count": 17,
     "metadata": {},
     "output_type": "execute_result"
    }
   ],
   "source": [
    "my_dic"
   ]
  },
  {
   "cell_type": "code",
   "execution_count": 18,
   "id": "fef189d5",
   "metadata": {},
   "outputs": [
    {
     "data": {
      "text/plain": [
       "'Thar'"
      ]
     },
     "execution_count": 18,
     "metadata": {},
     "output_type": "execute_result"
    }
   ],
   "source": [
    "my_dic['car1']"
   ]
  },
  {
   "cell_type": "code",
   "execution_count": 19,
   "id": "4f993ec3",
   "metadata": {},
   "outputs": [
    {
     "name": "stdout",
     "output_type": "stream",
     "text": [
      "car1\n",
      "car2\n",
      "car3\n"
     ]
    }
   ],
   "source": [
    "for i in my_dic:\n",
    "    print(i)"
   ]
  },
  {
   "cell_type": "code",
   "execution_count": 20,
   "id": "14ff7ea8",
   "metadata": {},
   "outputs": [
    {
     "name": "stdout",
     "output_type": "stream",
     "text": [
      "Thar\n",
      "BMW\n",
      "Range Rover\n"
     ]
    }
   ],
   "source": [
    "for i in my_dic:\n",
    "    print(my_dic[i])"
   ]
  },
  {
   "cell_type": "code",
   "execution_count": 21,
   "id": "8dfdf34d",
   "metadata": {},
   "outputs": [
    {
     "name": "stdout",
     "output_type": "stream",
     "text": [
      "('car1', 'Thar')\n",
      "('car2', 'BMW')\n",
      "('car3', 'Range Rover')\n"
     ]
    }
   ],
   "source": [
    "# printing both key and values together\n",
    "for i in my_dic.items():\n",
    "    print(i)"
   ]
  },
  {
   "cell_type": "code",
   "execution_count": null,
   "id": "b69c8f67",
   "metadata": {},
   "outputs": [],
   "source": []
  }
 ],
 "metadata": {
  "kernelspec": {
   "display_name": "Python 3 (ipykernel)",
   "language": "python",
   "name": "python3"
  },
  "language_info": {
   "codemirror_mode": {
    "name": "ipython",
    "version": 3
   },
   "file_extension": ".py",
   "mimetype": "text/x-python",
   "name": "python",
   "nbconvert_exporter": "python",
   "pygments_lexer": "ipython3",
   "version": "3.11.2"
  }
 },
 "nbformat": 4,
 "nbformat_minor": 5
}
